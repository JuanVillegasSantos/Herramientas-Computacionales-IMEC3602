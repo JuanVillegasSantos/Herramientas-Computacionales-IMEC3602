{
 "cells": [
  {
   "cell_type": "markdown",
   "metadata": {
    "collapsed": true
   },
   "source": [
    "# Enunciado\n",
    "\n",
    "El proyecto para este curso se propone sea el de escribir un programa que permita corregir la velocidad angular en RPM adquirida de la señal de PWM de una hélice  a partir de la señal de voltaje generada por un sensor óptico tipo laser que apunta a una de las aspas de esta hélice en partícular.\n",
    "\n",
    "El programa debe adqirir automáticamente los archivo de texto resultantes de cada medición (Habrá mínimo 3 mediciones con sus respectivos archivos en cada carpeta) conteniendo los datos de Empuje, Torque, Velocidad angular PWM y señal de voltaje contra tiepo del sensor optico. El programa debe arrojar las gráficas de Empuje vs RPM, Torque vs RPM y Potencia Mecánica vs RPM con susrespectivas tendencias y sus barras de errores asociados. (Se debe tener cuidado con la temporalidad de cada archivo, cada uno de estos contiene un registro del tiempo que registra el computador al guardar cada dato y este se usará como criterio para determinar la temporalidad del análisis)\n",
    "\n",
    "Adicional a esto, se debe realizar un ajuste a la curva de Potencia vs RPM, asumiendo 2 tipos de curvas de ajuste:\n",
    "\n",
    "* Una de la forma $P=C\\omega^k$\n",
    "* La otra de la forma $P=a_0+a_1\\omega+a_2\\omega^2$ \n",
    "\n",
    "Utilizando un análisis de mínimos cuadrados \n",
    "\n",
    "Finalmente se requiere analizar cual es el método más eficaz para realizar el ajuste propuesto, para esto, se calcularán ciertos indicadores de error, se propone comparar 3 indicadores: \n",
    "\n",
    "* Error RMS\n",
    "* Error de Sesgo medio\n",
    "* Indice de Kolmogorov Smagorinski\n"
   ]
  },
  {
   "cell_type": "code",
   "execution_count": null,
   "metadata": {},
   "outputs": [],
   "source": []
  }
 ],
 "metadata": {
  "kernelspec": {
   "display_name": "Python 3.6",
   "language": "python",
   "name": "python36"
  },
  "language_info": {
   "codemirror_mode": {
    "name": "ipython",
    "version": 3
   },
   "file_extension": ".py",
   "mimetype": "text/x-python",
   "name": "python",
   "nbconvert_exporter": "python",
   "pygments_lexer": "ipython3",
   "version": "3.6.3"
  }
 },
 "nbformat": 4,
 "nbformat_minor": 2
}
