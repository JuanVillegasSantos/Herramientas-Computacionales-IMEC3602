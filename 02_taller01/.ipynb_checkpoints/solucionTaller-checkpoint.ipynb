{
 "cells": [
  {
   "cell_type": "markdown",
   "metadata": {},
   "source": [
    "Punto 1"
   ]
  },
  {
   "cell_type": "code",
   "execution_count": 3,
   "metadata": {},
   "outputs": [
    {
     "name": "stdout",
     "output_type": "stream",
     "text": [
      "Populating the interactive namespace from numpy and matplotlib\n"
     ]
    }
   ],
   "source": [
    "import os\n",
    "import pandas as pd\n",
    "from scipy import stats\n",
    "%pylab inline"
   ]
  },
  {
   "cell_type": "code",
   "execution_count": 4,
   "metadata": {},
   "outputs": [],
   "source": [
    "#llamar datos de la carpeta data; dirBase, ciudad &origenData =Str \n",
    "\n",
    "def llamarDatos(ciudad, origenData):\n",
    "    serie=os.path.join('.','data',ciudad,origenData+'.csv')\n",
    "    serie_pd = pd.read_csv(serie, sep = ';',encoding='latin-1')\n",
    "    return serie_pd"
   ]
  },
  {
   "cell_type": "markdown",
   "metadata": {},
   "source": [
    "ciudades: Barranquilla, Cali,\n",
    "          Carmendebolivar, Medellin,\n",
    "          SantaMarta, Sucre, Uribia, Valledupar\n",
    "          \n",
    "origenesData: IDEAM, NREL"
   ]
  },
  {
   "cell_type": "code",
   "execution_count": 5,
   "metadata": {},
   "outputs": [],
   "source": [
    "#Calcular la energía total al mes\n",
    "def ghiMensual(serie):\n",
    "    agnos=sorted (serie['AÑO'].unique()) #sorted() organiza los datos de menor a mayot\n",
    "    nombre_energia = list(serie)[-1] #list [x](i) toma el primer valor de la columna i del dataFrame X\n",
    "    DefinitiveDataFrame =pd.DataFrame(columns=[\"AÑO\",\"MES\",\"DIAS\",\"GHIMensual\",\"GHIdiarioPromedio\"+nombre_energia]) #Construyo el nuevo DataFrame\n",
    "    for agno in agnos:\n",
    "        for mes in range (1,13): #range() no toma el último valor\n",
    "            dias=sorted(serie[(serie['AÑO']==agno)&(serie['MES']==mes)]['DIA'].unique()) #tomo el número de dias por mes\n",
    "            ghiMensual=serie.loc[((serie['AÑO']==agno)&(serie['MES']==mes)),nombre_energia].sum()/1000 #calculo la suma de la energia mensual en kWh\n",
    "            #serie.loc[cond,'x'] me toma los valores de la columna 'x' de un dataframe dada una condicion\n",
    "            ghiDiario=ghiMensual/dias[-1] #Calculo del valor diario promedio mensual            \n",
    "            ghi=dict([(\"AÑO\",agno),(\"MES\",mes),(\"DIAS\",dias[-1]),(\"GHIMensual\",ghiMensual),(\"GHIdiarioPromedio\"+nombre_energia,ghiDiario)]) #retorna una lista: {Mes:x,DIAS:y,etc}\n",
    "            DefinitiveDataFrame=DefinitiveDataFrame.append(ghi, ignore_index=True) #Guardo mis datos en el DataFrame ignore_index ignora los labels de los datos\n",
    "    return DefinitiveDataFrame"
   ]
  },
  {
   "cell_type": "code",
   "execution_count": 6,
   "metadata": {
    "scrolled": true
   },
   "outputs": [],
   "source": [
    "def enficc(serie):\n",
    "    percentil=0.01\n",
    "    en= ghiMensual(serie).quantile(q=percentil,numeric_only=True)[\"GHIdiarioPromedio\"+list(serie)[-1]]\n",
    "    return 'La ENFICC 99% es: ',en"
   ]
  },
  {
   "cell_type": "code",
   "execution_count": 7,
   "metadata": {},
   "outputs": [
    {
     "data": {
      "text/plain": [
       "('La ENFICC 99% es: ', 4.1605902581736194)"
      ]
     },
     "execution_count": 7,
     "metadata": {},
     "output_type": "execute_result"
    }
   ],
   "source": [
    "serie=llamarDatos(\"Barranquilla\",\"IDEAM\")\n",
    "enficc(serie)"
   ]
  },
  {
   "cell_type": "markdown",
   "metadata": {},
   "source": [
    "Punto Número 2"
   ]
  },
  {
   "cell_type": "code",
   "execution_count": 8,
   "metadata": {},
   "outputs": [],
   "source": [
    "def graficar(ciudad1,ciudad2,ciudad3,origenData):\n",
    "    serie1=llamarDatos(ciudad1,origenData)\n",
    "    serie2=llamarDatos(ciudad2,origenData)\n",
    "    serie3=llamarDatos(ciudad3,origenData)\n",
    "    data1=sorted(ghiMensual(serie1)[\"GHIdiarioPromedio\"+list(serie1)[-1]])\n",
    "    data2=sorted(ghiMensual(serie2)[\"GHIdiarioPromedio\"+list(serie2)[-1]])\n",
    "    data3=sorted(ghiMensual(serie3)[\"GHIdiarioPromedio\"+list(serie3)[-1]])\n",
    "    numdatos1=range(len(data1))\n",
    "    numdatos2=range(len(data2))\n",
    "    numdatos3=range(len(data3))\n",
    "    fig=figure()\n",
    "    pylab.xlabel(\"Datos\")\n",
    "    pylab.ylabel(\"Energía/Energía Base\")\n",
    "    pylab.title(origenData)\n",
    "    pylab.plot(numdatos1,data1/data1[0],'-k', label=ciudad1)\n",
    "    pylab.plot(numdatos2,data2/data2[0],'-y', label=ciudad2)\n",
    "    pylab.plot(numdatos3,data3/data3[0],'-r', label=ciudad3)\n",
    "    pylab.legend(loc='upper left')\n",
    "    return\n",
    "\n"
   ]
  },
  {
   "cell_type": "code",
   "execution_count": 9,
   "metadata": {},
   "outputs": [
    {
     "data": {
      "image/png": "[encoded data removed]",
      "text/plain": [
       "<matplotlib.figure.Figure at 0x7fb14378c438>"
      ]
     },
     "metadata": {},
     "output_type": "display_data"
    }
   ],
   "source": [
    "graficar(\"Cali\",\"Valledupar\",\"Barranquilla\",\"IDEAM\")"
   ]
  },
  {
   "cell_type": "markdown",
   "metadata": {
    "slideshow": {
     "slide_type": "fragment"
    }
   },
   "source": [
    "Punto 3"
   ]
  },
  {
   "cell_type": "code",
   "execution_count": 10,
   "metadata": {},
   "outputs": [],
   "source": [
    "#OJO, datos satelitales son NREL, datos reales son IDEAM\n",
    "#Seleccionar pedazos de series\n",
    "\n",
    "#serieObj tiene como entrada el año inicial, el mes inicial, el año final, el mes final y la ciudad del trozo de la serie de datos medidos NREL con lo cuales se corregirá\n",
    "#Su salida es un DataFrame conteniendo el trozo de datos medidos en sitio \"NREL\" a corregir\n",
    "def serieObj (agnoInicial,mesInicial,agnoFinal,mesFinal,ciudad):\n",
    "    origen='IDEAM'\n",
    "    x=llamarDatos(ciudad,origen)[(llamarDatos(ciudad,origen)['AÑO']>=agnoInicial)&\n",
    "                               (llamarDatos(ciudad,origen)['MES']>=mesInicial)&\n",
    "                               (llamarDatos(ciudad,origen)['AÑO']<=agnoFinal)&\n",
    "                               (llamarDatos(ciudad,origen)['MES']<=mesFinal)]\n",
    "    return x\n",
    "#serieRef tiene como entrada el año inicial, el mes inicial, el año final, el mes final y la ciudad del trozo de la serie de datos medidos NREL con lo cuales se corregirá\n",
    "#Su salida es un DataFrame conteniendo el trozo de datos satelitales \"IDEAM\" en la misma temporalidad que el trozo de NREL con lo cuales se corregirá\n",
    "def serieRef (agnoInicial,mesInicial,agnoFinal,mesFinal,ciudad):\n",
    "    origen='NREL'\n",
    "    y=llamarDatos(ciudad,origen)[(llamarDatos(ciudad,origen)['AÑO']>=agnoInicial)&\n",
    "                               (llamarDatos(ciudad,origen)['MES']>=mesInicial)&\n",
    "                               (llamarDatos(ciudad,origen)['AÑO']<=agnoFinal)&\n",
    "                               (llamarDatos(ciudad,origen)['MES']<=mesFinal)]\n",
    "    return y\n",
    "#MCP tiene como entrada el año inicial, el mes inicial, el año final, el mes final y la ciudad del trozo de la serie de datos medidos NREL con lo cuales se corregirá\n",
    "#Su salida es un dataframe con Año, Mes, Dia, Datos satelitales \"IDEAM\" y Datos corregidos \"MCP\" en temporalidad horaria de 10 años\n",
    "def MCP (agnoInicial,mesInicial,agnoFinal,mesFinal,ciudad):\n",
    "    #Parámetros para calcular MCP\n",
    "    origenRef='NREL'\n",
    "    origenObj='IDEAM'\n",
    "    Ref=serieRef (agnoInicial,mesInicial,agnoFinal,mesFinal,ciudad)[origenRef]\n",
    "    Obj=serieObj (agnoInicial,mesInicial,agnoFinal,mesFinal,ciudad)[origenObj]\n",
    "    GHImean_Ref=Ref.sum()/count_nonzero(Ref)\n",
    "    GHImean_Obj=Obj.sum()/count_nonzero(Obj)\n",
    "    DSTD_Ref=Ref[Ref!=0].std()\n",
    "    DSTD_Obj=Obj[Obj!=0].std()\n",
    "    relDSTDs=DSTD_Obj/DSTD_Ref\n",
    "    #corrección\n",
    "    refLarga=llamarDatos(ciudad,origenRef)[origenRef]\n",
    "    A=GHImean_Obj-(relDSTDs*GHImean_Ref)\n",
    "    B=relDSTDs*refLarga\n",
    "    df=llamarDatos(ciudad,origenRef)\n",
    "    df['IDEAM']=llamarDatos(ciudad,origenObj)[origenObj]\n",
    "    df['MCP']=A+B\n",
    "    return df\n",
    "#plotPorCiudad tiene como entrada el año inicial, el mes inicial, el año final, el mes final y la ciudad del trozo de la serie de datos medidos NREL con lo cuales se corregirá\n",
    "#Su salida es una gráfica con los promedios mensuales en temporalidad mensual de 10 años\n",
    "def plotPorCiudad (agnoInicial,mesInicial,agnoFinal,mesFinal,ciudad):\n",
    "    origenRef='NREL'\n",
    "    origenMed='IDEAM'\n",
    "    Corregida=ghiMensual(MCP(agnoInicial,mesInicial,agnoFinal,mesFinal,ciudad))['GHIMensual']\n",
    "    Satelitales=ghiMensual(llamarDatos(ciudad,origenRef))['GHIMensual']\n",
    "    x=range(len(Corregida))\n",
    "    fig=figure()\n",
    "    pylab.xlabel('Meses')\n",
    "    pylab.ylabel(r'$GHI[\\frac{W}{m^2}]$')\n",
    "    pylab.plot(x,Satelitales,'-k', label='Datos Satelitales')\n",
    "    pylab.plot(x,Corregida,'-r', label='Datos Corregidos')\n",
    "    pylab.legend(loc='upper left')\n",
    "    return 'CUIDADO: La serie de datos medidos inicia en el año ',serieObj (agnoInicial,mesInicial,agnoFinal,mesFinal,ciudad)['AÑO'].min() "
   ]
  },
  {
   "cell_type": "code",
   "execution_count": 11,
   "metadata": {
    "scrolled": true
   },
   "outputs": [
    {
     "data": {
      "text/plain": [
       "('CUIDADO: La serie de datos medidos inicia en el año ', 2010)"
      ]
     },
     "execution_count": 11,
     "metadata": {},
     "output_type": "execute_result"
    },
    {
     "data": {
      "image/png": "[encoded data removed]",
      "text/plain": [
       "<matplotlib.figure.Figure at 0x7fb142f80fd0>"
      ]
     },
     "metadata": {},
     "output_type": "display_data"
    }
   ],
   "source": [
    "plotPorCiudad(2010,1,2015,1,\"Barranquilla\")"
   ]
  },
  {
   "cell_type": "markdown",
   "metadata": {},
   "source": [
    "Punto 4"
   ]
  },
  {
   "cell_type": "code",
   "execution_count": 29,
   "metadata": {},
   "outputs": [],
   "source": [
    "#Cortar Serie\n",
    "def cortarSerie(serie,agnoInicial,agnoFinal):\n",
    "    x=serie[(serie['AÑO']>=agnoInicial)&\n",
    "            (serie['AÑO']<=agnoFinal)]\n",
    "    return x\n",
    "#Error RMS\n",
    "def RMS(agnoInicial,mesInicial,agnoFinal,mesFinal,ciudad):\n",
    "    modMCP='MCP'\n",
    "    modNREL='NREL'\n",
    "    obs='IDEAM'\n",
    "    #\n",
    "    XmodMCP=MCP(agnoInicial,mesInicial,agnoFinal,mesFinal,ciudad)[modMCP]\n",
    "    XmodNREL=MCP(agnoInicial,mesInicial,agnoFinal,mesFinal,ciudad)[modNREL]\n",
    "    Xobs=MCP(agnoInicial,mesInicial,agnoFinal,mesFinal,ciudad)[obs]\n",
    "    #       \n",
    "    RMSMCPinsideSum=(Xobs-XmodMCP)**2\n",
    "    RMSNRELinsideSum=(Xobs-XmodNREL)**2\n",
    "    #\n",
    "    RMSMCP=((RMSMCPinsideSum.sum()/len(RMSMCPinsideSum))**0.5)/(Xobs.max()-Xobs.min())\n",
    "    RMSNREL=((RMSNRELinsideSum.sum()/len(RMSNRELinsideSum))**0.5)/(Xobs.max()-Xobs.min())\n",
    "    #\n",
    "    df=pd.DataFrame({'RMS':[0,RMSNREL,RMSMCP]},index=['ideal','NREL vs IDEAM','MCP vs IDEAM'])\n",
    "    return df\n",
    "def MBE(agnoInicial,mesInicial,agnoFinal,mesFinal,ciudad):\n",
    "    modMCP='MCP'\n",
    "    modNREL='NREL'\n",
    "    obs='IDEAM'\n",
    "    #\n",
    "    XmodMCP=MCP(agnoInicial,mesInicial,agnoFinal,mesFinal,ciudad)[modMCP]\n",
    "    XmodNREL=MCP(agnoInicial,mesInicial,agnoFinal,mesFinal,ciudad)[modNREL]\n",
    "    Xobs=MCP(agnoInicial,mesInicial,agnoFinal,mesFinal,ciudad)[obs]\n",
    "    #\n",
    "    ErrMBEMCP=(XmodMCP-Xobs).sum()/(Xobs.sum())\n",
    "    ErrMBENREL=(XmodNREL-Xobs).sum()/(Xobs.sum())\n",
    "    #\n",
    "    df=pd.DataFrame({'MBE':[0,ErrMBENREL,ErrMBEMCP]},index=['ideal','NREL vs IDEAM','MCP vs IDEAM'])\n",
    "    return df\n",
    "#Error KSI\n",
    "def KSI(agnoInicial,mesInicial,agnoFinal,mesFinal,ciudad):\n",
    "    agno1=llamarDatos(ciudad,'IDEAM')['AÑO'].min()\n",
    "    agno2=llamarDatos(ciudad,'IDEAM')['AÑO'].max()    \n",
    "    NREL=cortarSerie(llamarDatos(ciudad,'NREL'),agno1,agno2)['NREL']\n",
    "    DataMCP=cortarSerie(MCP(agnoInicial,mesInicial,agnoFinal,mesFinal,ciudad),agno1,agno2)['MCP']\n",
    "    IDEAM=llamarDatos(ciudad,'IDEAM')['IDEAM']    \n",
    "    [DNREL,pNREL]=stats.ks_2samp(NREL,IDEAM)\n",
    "    [DMCP,pMCP]=stats.ks_2samp(DataMCP,IDEAM)\n",
    "    df=pd.DataFrame({'D':[0,DNREL,DMCP],'p-Value':[1,pNREL,pMCP]},index=['ideal','NREL vs IDEAM','MCP vs IDEAM'])\n",
    "    return df"
   ]
  },
  {
   "cell_type": "code",
   "execution_count": 31,
   "metadata": {},
   "outputs": [],
   "source": [
    "def errores(agnoInicial,mesInicial,agnoFinal,mesFinal,ciudad):\n",
    "    df=RMS(agnoInicial,mesInicial,agnoFinal,mesFinal,ciudad)\n",
    "    df['MBE']=MBE(agnoInicial,mesInicial,agnoFinal,mesFinal,ciudad)['MBE']\n",
    "    df['KS statistic']=KSI(agnoInicial,mesInicial,agnoFinal,mesFinal,ciudad)['D']\n",
    "    df['p-Value']=KSI(agnoInicial,mesInicial,agnoFinal,mesFinal,ciudad)['p-Value']\n",
    "    return df"
   ]
  },
  {
   "cell_type": "code",
   "execution_count": 33,
   "metadata": {},
   "outputs": [
    {
     "data": {
      "text/html": [
       "<div>\n",
       "<style>\n",
       "    .dataframe thead tr:only-child th {\n",
       "        text-align: right;\n",
       "    }\n",
       "\n",
       "    .dataframe thead th {\n",
       "        text-align: left;\n",
       "    }\n",
       "\n",
       "    .dataframe tbody tr th {\n",
       "        vertical-align: top;\n",
       "    }\n",
       "</style>\n",
       "<table border=\"1\" class=\"dataframe\">\n",
       "  <thead>\n",
       "    <tr style=\"text-align: right;\">\n",
       "      <th></th>\n",
       "      <th>RMS</th>\n",
       "      <th>MBE</th>\n",
       "      <th>KS statistic</th>\n",
       "      <th>p-Value</th>\n",
       "    </tr>\n",
       "  </thead>\n",
       "  <tbody>\n",
       "    <tr>\n",
       "      <th>ideal</th>\n",
       "      <td>0.000000</td>\n",
       "      <td>0.000000</td>\n",
       "      <td>0.000000</td>\n",
       "      <td>1.000000e+00</td>\n",
       "    </tr>\n",
       "    <tr>\n",
       "      <th>NREL vs IDEAM</th>\n",
       "      <td>0.129778</td>\n",
       "      <td>0.183658</td>\n",
       "      <td>0.047447</td>\n",
       "      <td>1.200049e-77</td>\n",
       "    </tr>\n",
       "    <tr>\n",
       "      <th>MCP vs IDEAM</th>\n",
       "      <td>0.118825</td>\n",
       "      <td>-0.169917</td>\n",
       "      <td>0.553582</td>\n",
       "      <td>0.000000e+00</td>\n",
       "    </tr>\n",
       "  </tbody>\n",
       "</table>\n",
       "</div>"
      ],
      "text/plain": [
       "                    RMS       MBE  KS statistic       p-Value\n",
       "ideal          0.000000  0.000000      0.000000  1.000000e+00\n",
       "NREL vs IDEAM  0.129778  0.183658      0.047447  1.200049e-77\n",
       "MCP vs IDEAM   0.118825 -0.169917      0.553582  0.000000e+00"
      ]
     },
     "execution_count": 33,
     "metadata": {},
     "output_type": "execute_result"
    }
   ],
   "source": [
    "errores(2007,1,2015,1,\"Cali\")"
   ]
  },
  {
   "cell_type": "code",
   "execution_count": null,
   "metadata": {},
   "outputs": [],
   "source": []
  }
 ],
 "metadata": {
  "kernelspec": {
   "display_name": "Python 3.6",
   "language": "python",
   "name": "python36"
  },
  "language_info": {
   "codemirror_mode": {
    "name": "ipython",
    "version": 3
   },
   "file_extension": ".py",
   "mimetype": "text/x-python",
   "name": "python",
   "nbconvert_exporter": "python",
   "pygments_lexer": "ipython3",
   "version": "3.6.3"
  }
 },
 "nbformat": 4,
 "nbformat_minor": 2
}
