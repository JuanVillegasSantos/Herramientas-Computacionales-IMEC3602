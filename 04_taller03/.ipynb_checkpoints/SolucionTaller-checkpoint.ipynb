{
 "cells": [
  {
   "cell_type": "code",
   "execution_count": 1,
   "metadata": {},
   "outputs": [
    {
     "name": "stdout",
     "output_type": "stream",
     "text": [
      "Populating the interactive namespace from numpy and matplotlib\n"
     ]
    }
   ],
   "source": [
    "%pylab inline\n",
    "import os\n",
    "import pandas as pd\n",
    "from scipy import ndimage\n",
    "\n",
    "def readSport (energia,nombre):\n",
    "    base_dir = 'data_'+energia\n",
    "    data_file = nombre\n",
    "    df = pd.read_table(os.path.join(base_dir,data_file),sep=\"\\s+\",header=61,\n",
    "                       names=[\"sats\",\"time\",\"lat\",\"long\",\"velocity\",\"heading\",\"height\",\"longacc\",\"latacc\",\"temp\",\"Vbat\",\"batt-flags\",\"batt-ai\",\"batt.soc\"])\n",
    "    dfFinal=df.drop(['longacc','latacc','Vbat','batt-flags','batt-ai','batt.soc'],axis=1)\n",
    "    return dfFinal\n",
    "\n",
    "def readOld (energia,nombre):\n",
    "    base_dir = 'data_'+energia\n",
    "    data_file = nombre    \n",
    "    df = pd.read_table(os.path.join(base_dir,data_file),sep=\"\\s+\",header=26)\n",
    "    df=df.drop(df.index[0])\n",
    "    dfFinal=df.drop(['vert-vel','pot','event-1'],axis=1)\n",
    "    return dfFinal\n",
    "\n",
    "def vGauss(vx):\n",
    "    vel=ndimage.gaussian_filter1d(vx, sigma=20, order=1, mode='wrap')\n",
    "    return vel"
   ]
  },
  {
   "cell_type": "markdown",
   "metadata": {},
   "source": [
    "# Electrico:\n",
    "## VBS__047.VBO:\n",
    "* inicio= 345; final=1550\n",
    "# Combustion:\n",
    "## VBOX0019.VBO:\n",
    "* inicio=3000; final=9950\n",
    "## VBOX0020.VBO:\n",
    "* inicio=0; final=5475\n",
    "## VBOX0024.VBO:\n",
    "* inicio=7560; final=13580"
   ]
  },
  {
   "cell_type": "code",
   "execution_count": 2,
   "metadata": {},
   "outputs": [],
   "source": [
    "def tiempoVueltaE(energia,nombre,inicio,final):\n",
    "    sport=readSport(energia,nombre)\n",
    "    long=sport['long'][inicio:final]\n",
    "    lat=sport['lat'][inicio:final]\n",
    "    velocity=sport['velocity'][inicio:final]\n",
    "    time=np.array(sport['time'][inicio:final])\n",
    "    tiempoVuelta=time[-1]-time[0]\n",
    "    dt=(time[-1]-time[-2])/3600\n",
    "    vel=vGauss(velocity)\n",
    "    acc=(vel/dt)*(1000/1)*(1/3600)**2#*(1/9.82) #g's\n",
    "    return [long,lat],time,velocity,acc,tiempoVuelta\n",
    "\n",
    "def tiempoVueltaC(energia,nombre,inicio,final):\n",
    "    comb=readOld(energia,nombre)\n",
    "    long=comb['long'][inicio:final]\n",
    "    lat=comb['lat'][inicio:final]\n",
    "    velocity=comb['velocity'][inicio:final]\n",
    "    time=np.array(comb['time'][inicio:final])\n",
    "    tiempoVuelta=time[-1]-time[0]\n",
    "    dt=(time[-1]-time[-2])/3600 #hours\n",
    "    vel=vGauss(velocity)\n",
    "    acc=(vel/dt)*(1000/1)*(1/3600)**2#*(1/9.82) #g's\n",
    "    return [long,lat],time,velocity,acc,tiempoVuelta"
   ]
  },
  {
   "cell_type": "markdown",
   "metadata": {},
   "source": [
    "### Combustión"
   ]
  },
  {
   "cell_type": "markdown",
   "metadata": {},
   "source": [
    "#### Datos a analizar (VBOX0019.VBO)"
   ]
  },
  {
   "cell_type": "code",
   "execution_count": 3,
   "metadata": {
    "scrolled": true
   },
   "outputs": [
    {
     "name": "stdout",
     "output_type": "stream",
     "text": [
      "Tiempo de vuelta promedio = 1.721 min\n"
     ]
    }
   ],
   "source": [
    "[coord19C,time19C,vel19C,accel19C,tVuelta19C]=tiempoVueltaC('combustion',\n",
    "                                                            'VBOX0019.VBO',\n",
    "                                                            3050,9950)\n",
    "[coord19C2,time19C2,vel19C2,accel19C2,tVuelta19C2]=tiempoVueltaC('combustion',\n",
    "                                                            'VBOX0019.VBO',\n",
    "                                                            9950,9950+5750)\n",
    "\n",
    "mp19=figure(1)\n",
    "plot(coord19C[0],coord19C[1])\n",
    "title('Primeros datos para analizar - combustión - VBOX0019.VBO');xticks([]);yticks([])\n",
    "#savefig('Mapa vuelta 19C')\n",
    "plt.close()\n",
    "\n",
    "vl19=figure(2)\n",
    "plot(time19C-time19C[0],vel19C,label='vuelta en=%.3f min' % (tVuelta19C/60))\n",
    "plot(time19C2-time19C2[0],vel19C2,label='vuelta en=%.3f min' % (tVuelta19C2/60))\n",
    "title('Velocidad vs tiempo');xlabel('Time[s]');ylabel('Velocity[km/h]');legend()\n",
    "grid('on')\n",
    "#savefig('Velocidad 19C')\n",
    "plt.close()\n",
    "\n",
    "ac19=figure(3)\n",
    "plot(time19C-time19C[0],accel19C,label='vuelta en=%.3f min' % (tVuelta19C/60))\n",
    "plot(time19C2-time19C2[0],accel19C2,label='vuelta en=%.3f min' % (tVuelta19C2/60))\n",
    "title('Aceleración vs tiempo');xlabel('Time[s]');ylabel('Aceleración[$m/s^2$]');legend()\n",
    "grid('on')\n",
    "#savefig('Aceleracion 19C')\n",
    "plt.close()\n",
    "tProm19C=(tVuelta19C+tVuelta19C2)/(2*60)\n",
    "print('Tiempo de vuelta promedio = %.3f min'%(tProm19C))"
   ]
  },
  {
   "cell_type": "markdown",
   "metadata": {},
   "source": [
    "#### Datos a analizar (VBOX0020.VBO)"
   ]
  },
  {
   "cell_type": "code",
   "execution_count": 4,
   "metadata": {},
   "outputs": [
    {
     "name": "stdout",
     "output_type": "stream",
     "text": [
      "Tiempo de vuelta promedio = 1.573 min\n"
     ]
    }
   ],
   "source": [
    "[coord20C,time20C,vel20C,accel20C,tVuelta20C]=tiempoVueltaC('combustion',\n",
    "                                                            'VBOX0020.VBO',\n",
    "                                                            0,5475)\n",
    "[coord20C2,time20C2,vel20C2,accel20C2,tVuelta20C2]=tiempoVueltaC('combustion',\n",
    "                                                            'VBOX0020.VBO',\n",
    "                                                            5475,5475+5400)\n",
    "\n",
    "mp20=figure(4)\n",
    "plot(coord20C[0],coord20C[1])\n",
    "title('Datos para analizar - combustión - VBOX0019.VBO');xticks([]);yticks([])\n",
    "#savefig('Mapa vuelta 20C')\n",
    "plt.close()\n",
    "\n",
    "vl20=figure(5)\n",
    "plot(time20C-time20C[0],vel20C,label='vuelta en=%.3f min' % (tVuelta20C/60))\n",
    "plot(time20C2-time20C2[0],vel20C2,label='vuelta en=%.3f min' % (tVuelta20C2/60))\n",
    "title('Velocidad vs tiempo');xlabel('Time[s]');ylabel('Velocity[km/h]');legend()\n",
    "grid('on')\n",
    "#savefig('Velocidad 20C')\n",
    "plt.close()\n",
    "\n",
    "ac20=figure(6)\n",
    "plot(time20C-time20C[0],accel20C,label='vuelta en=%.3f min' % (tVuelta20C/60))\n",
    "plot(time20C2-time20C2[0],accel20C2,label='vuelta en=%.3f min' % (tVuelta20C2/60))\n",
    "title('Aceleración vs tiempo');xlabel('Time[s]');ylabel('Aceleración[$m/s^2$]');legend()\n",
    "grid('on')\n",
    "#savefig('Aceleracion 20C')\n",
    "plt.close()\n",
    "tProm20C=(tVuelta20C+tVuelta20C2)/(2*60)\n",
    "print('Tiempo de vuelta promedio = %.3f min'%(tProm20C))"
   ]
  },
  {
   "cell_type": "markdown",
   "metadata": {},
   "source": [
    "#### Datos a analizar (VBOX0024.VBO)"
   ]
  },
  {
   "cell_type": "code",
   "execution_count": 5,
   "metadata": {},
   "outputs": [
    {
     "name": "stdout",
     "output_type": "stream",
     "text": [
      "Tiempo de vuelta promedio = 1.670 min\n"
     ]
    }
   ],
   "source": [
    "[coord24C,time24C,vel24C,accel24C,tVuelta24C]=tiempoVueltaC('combustion',\n",
    "                                                            'VBOX0024.VBO',\n",
    "                                                            7560,13580)\n",
    "mp24=figure(7)\n",
    "plot(coord24C[0],coord24C[1])\n",
    "title('Datos para analizar - combustión - VBOX0024.VBO');xticks([]);yticks([])\n",
    "#savefig('Mapa vuelta 20C')\n",
    "plt.close()\n",
    "\n",
    "vl24=figure(8)\n",
    "plot(time24C-time24C[0],vel24C,label='vuelta en=%.3f min' % (tVuelta24C/60))\n",
    "title('Velocidad vs tiempo');xlabel('Time[s]');ylabel('Velocity[km/h]');legend()\n",
    "grid('on')\n",
    "#savefig('Velocidad 20C')\n",
    "plt.close()\n",
    "\n",
    "ac24=figure(9)\n",
    "plot(time24C-time24C[0],accel24C,label='vuelta en=%.3f min' % (tVuelta24C/60))\n",
    "title('Aceleración vs tiempo');xlabel('Time[s]');ylabel('Aceleración[$m/s^2$]');legend()\n",
    "grid('on')\n",
    "#savefig('Aceleracion 20C')\n",
    "plt.close()\n",
    "tProm24C=tVuelta24C/60\n",
    "print('Tiempo de vuelta promedio = %.3f min'%(tProm24C))"
   ]
  },
  {
   "cell_type": "markdown",
   "metadata": {},
   "source": [
    "## Electrico(VBS__047.VBO)"
   ]
  },
  {
   "cell_type": "code",
   "execution_count": 7,
   "metadata": {
    "scrolled": true
   },
   "outputs": [
    {
     "name": "stdout",
     "output_type": "stream",
     "text": [
      "Tiempo de vuelta promedio = 1.670 min\n"
     ]
    }
   ],
   "source": [
    "[coord47E,time47E,vel47E,accel47E,tVuelta47E]=tiempoVueltaE('electrico',\n",
    "                                                            'VBS__047.VBO',\n",
    "                                                            345,1550)\n",
    "mpE=figure(10)\n",
    "plot(coord47E[0],coord47E[1])\n",
    "title('Datos para analizar - electrico - VBO__047.VBO');xticks([]);yticks([])\n",
    "#savefig('Mapa vuelta 20C')\n",
    "plt.close()\n",
    "\n",
    "vlE=figure(11)\n",
    "plot(time47E-time47E[0],vel47E,label='vuelta en=%.3f min' % (tVuelta47E/60))\n",
    "title('Velocidad vs tiempo');xlabel('Time[s]');ylabel('Velocity[km/h]');legend()\n",
    "grid('on')\n",
    "#savefig('Velocidad 20C')\n",
    "plt.close()\n",
    "\n",
    "acE=figure(12)\n",
    "plot(time47E-time47E[0],accel47E,label='vuelta en=%.3f min' % (tVuelta47E/60))\n",
    "title('Aceleración vs tiempo');xlabel('Time[s]');ylabel('Aceleración[$m/s^2$]');legend()\n",
    "grid('on')\n",
    "#savefig('Aceleracion 20C')\n",
    "plt.close()\n",
    "tPromE=tVuelta47E/60\n",
    "print('Tiempo de vuelta promedio = %.3f min'%(tPromE))\n",
    "tPromC=(tProm24C+tProm20C+tProm19C)/3"
   ]
  },
  {
   "cell_type": "markdown",
   "metadata": {},
   "source": [
    "## Torque"
   ]
  },
  {
   "cell_type": "code",
   "execution_count": 11,
   "metadata": {},
   "outputs": [],
   "source": [
    "def Torq (vel):\n",
    "    omega=(vel/(r_et*eficiencia))*(60/(2*np.pi))*Nc\n",
    "    P=3.037*((-0.00000004564538677*(omega**3))+(0.0001056995459*(omega**2))+(1.53209191*omega)-1.895523696)\n",
    "    if 0<=omega<=30:\n",
    "        Torque= 40\n",
    "    else:\n",
    "        Torque=P/(omega*2*np.pi/60)\n",
    "    return omega,Torque,P\n"
   ]
  },
  {
   "cell_type": "markdown",
   "metadata": {},
   "source": [
    "# Informe:"
   ]
  },
  {
   "cell_type": "markdown",
   "metadata": {},
   "source": [
    "En este caso, este taller pretende"
   ]
  }
 ],
 "metadata": {
  "kernelspec": {
   "display_name": "Python 3.6",
   "language": "python",
   "name": "python36"
  },
  "language_info": {
   "codemirror_mode": {
    "name": "ipython",
    "version": 3
   },
   "file_extension": ".py",
   "mimetype": "text/x-python",
   "name": "python",
   "nbconvert_exporter": "python",
   "pygments_lexer": "ipython3",
   "version": "3.6.3"
  }
 },
 "nbformat": 4,
 "nbformat_minor": 2
}
